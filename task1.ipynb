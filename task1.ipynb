{
 "cells": [
  {
   "cell_type": "markdown",
   "id": "84fe24f1-75de-4182-af5d-0efd7571128e",
   "metadata": {},
   "source": [
    "# Imports"
   ]
  },
  {
   "cell_type": "code",
   "execution_count": null,
   "id": "89716b44-2257-47a1-b9f9-64a647551189",
   "metadata": {},
   "outputs": [],
   "source": [
    "from abc import ABC, abstractmethod\n",
    "from dataclasses import dataclass\n",
    "from typing import Any, Callable, Optional, Union\n",
    "from IPython.display import display, Image, HTML\n",
    "\n",
    "import pygraphviz as pgv\n",
    "import base64\n",
    "import sympy as sm\n",
    "from sympy.logic import SOPform\n",
    "from sympy.core.symbol import Symbol\n",
    "from sympy.logic.boolalg import BooleanFunction, Boolean, BooleanTrue, BooleanFalse\n",
    "from sympy.printing.dot import dotprint, srepr\n",
    "from sympy.printing.latex import LatexPrinter, print_latex"
   ]
  },
  {
   "cell_type": "code",
   "execution_count": null,
   "id": "6987439e-c4e5-4307-9099-b86a535fee3a",
   "metadata": {},
   "outputs": [],
   "source": [
    "# sm.init_session(use_latex=False)''"
   ]
  },
  {
   "cell_type": "code",
   "execution_count": null,
   "id": "7b591711-9ad0-474f-b711-f2a7398caf9f",
   "metadata": {},
   "outputs": [],
   "source": [
    "def draw(\n",
    "    *graphs: pgv.AGraph,\n",
    "    width=200,\n",
    "    labels=None,\n",
    "    prog='dot'\n",
    "):\n",
    "    \"\"\"https://stackoverflow.com/a/40494608 and DeepSeek\"\"\"\n",
    "\n",
    "    html_content = \"<div style = 'display: flex; flex-wrap: wrap; gap: 20px;'>\"\n",
    "    labels = labels or list(range(len(graphs)))\n",
    "    for i, graph in enumerate(graphs):\n",
    "        if not isinstance(graph, pgv.AGraph):\n",
    "            raise Exception(\"I need graph!\")\n",
    "        img_b64 = base64.b64encode(\n",
    "            graph.draw(format='png', prog=prog)\n",
    "        ).decode()\n",
    "        img_src = f\"data:image/png;base64,{img_b64}\"\n",
    "        html_content += f\"\"\"\n",
    "<div style = 'text-align: center;'>\n",
    "    <img src = '{img_src}' width = '{width}' style = 'border: 1px solid #ccc;'>\n",
    "    <div><strong>{labels[i]}</strong></div>\n",
    "</div>\n",
    "\"\"\"\n",
    "    html_content += \"</div>\"\n",
    "    display(HTML(html_content))"
   ]
  },
  {
   "cell_type": "markdown",
   "id": "4ea51247-85be-4e38-b32c-abfad5b7aff5",
   "metadata": {},
   "source": [
    "# Classes"
   ]
  },
  {
   "cell_type": "code",
   "execution_count": null,
   "id": "220c4c5f-1260-49e0-9c6c-53ef80be3e39",
   "metadata": {},
   "outputs": [],
   "source": [
    "@dataclass\n",
    "class TreeNode:\n",
    "    expression: Boolean\n",
    "    children: tuple['TreeNode'] = tuple()\n",
    "    _closest_argument: Optional[Symbol] = None\n",
    "\n",
    "    @property\n",
    "    def closest_argument(self):\n",
    "        if self._closest_argument is None:\n",
    "            if self.is_final:\n",
    "                self._closest_argument = self.expression\n",
    "            temp: dict[Symbol, int] = dict()\n",
    "            args = list(map(lambda x: (x, 0), self.expression.args))\n",
    "            for arg, num in args:\n",
    "                if isinstance(arg, Symbol):\n",
    "                    prev_num = temp.get(arg, num)\n",
    "                    temp[arg] = min(num, prev_num)\n",
    "                else:\n",
    "                    for a in arg.args:\n",
    "                        args.append((a, num+1))\n",
    "            self._closest_argument = min(temp.items(), key=lambda x: x[1])[0]\n",
    "        return self._closest_argument\n",
    "\n",
    "    def compute(self):\n",
    "        if not self.is_final:\n",
    "            symbol = self.closest_argument\n",
    "            self.children = \\\n",
    "                TreeNode(self.expression.subs(symbol, 0)), \\\n",
    "                TreeNode(self.expression.subs(symbol, 1))\n",
    "            for node in self.children:\n",
    "                node.compute()\n",
    "\n",
    "    def draw(self, graph: pgv.AGraph):\n",
    "        if self.is_final:\n",
    "            label = int(bool(self.expression))\n",
    "            graph.add_node(id(self), shape='doublecircle', label=str(label))\n",
    "            return\n",
    "        label = '{%s | %s}' % (\n",
    "            sm.pretty(self.expression).replace('∧', '&amp;').replace('∨', 'v'),\n",
    "            self.closest_argument\n",
    "        )\n",
    "        graph.add_node(id(self), shape='record', label=label)\n",
    "        for i, node in enumerate(self.children):\n",
    "            graph.add_edge(id(self), id(node), label=str(i))\n",
    "            node.draw(graph)\n",
    "\n",
    "    def return_all_leaves(self, acc: set[Symbol]):\n",
    "        if self.is_final:\n",
    "            acc.add(self.expression)\n",
    "            return acc\n",
    "        for node in self.children:\n",
    "            node.return_all_leaves(acc)\n",
    "        return acc\n",
    "\n",
    "    @property\n",
    "    def is_final(self) -> bool:\n",
    "        return isinstance(self.expression, Symbol | BooleanFalse | BooleanTrue)"
   ]
  },
  {
   "cell_type": "code",
   "execution_count": null,
   "id": "ad3c607a-1edd-43e8-b550-1552259ad65d",
   "metadata": {},
   "outputs": [],
   "source": [
    "@dataclass\n",
    "class TreeMethod:\n",
    "    init_expression: Boolean\n",
    "    node: Optional[TreeNode] = None\n",
    "\n",
    "    def restart(self):\n",
    "        self.node = TreeNode(self.init_expression)\n",
    "\n",
    "    def draw(self) -> pgv.AGraph:\n",
    "        self.restart()\n",
    "        self.node.compute()\n",
    "        graph = pgv.AGraph(strict=False, directed=True)\n",
    "        self.node.draw(graph)\n",
    "        return graph\n",
    "\n",
    "    def is_constant(self) -> bool:\n",
    "        return len(self.node.return_all_leaves(set())) == 1 \\\n",
    "            if self.node else None"
   ]
  },
  {
   "cell_type": "markdown",
   "id": "c531f8d4-e645-41ea-a979-24692a6d82ec",
   "metadata": {},
   "source": [
    "# Other"
   ]
  },
  {
   "cell_type": "code",
   "execution_count": null,
   "id": "7ba1001a-a2ba-4d29-9bf2-50a008181f19",
   "metadata": {
    "scrolled": true
   },
   "outputs": [],
   "source": [
    "x1, x2, x3, x4, _0, _1, A, B, C, D = sm.symbols('x1 x2 x3 x4 0 1 A B C D')\n",
    "# expr = ((x1 | x2) & (~x1 | x3)) >> (x2 | x3)\n",
    "expr = sm.Eq((~A | B) >> (~C & D), ~((A >> B) & (C | ~D)))\n",
    "tree = TreeMethod(expr)\n",
    "tree.restart()\n",
    "print(\"Выражение:\")\n",
    "print(sm.pretty(tree.node.expression))\n",
    "print(sm.pretty(tree.node.expression.simplify()))\n",
    "graph = tree.draw()\n",
    "draw(graph)\n",
    "if tree.is_constant():\n",
    "    print(\"Как видно, это выражение - константное\")\n",
    "else:\n",
    "    print(\"Как видно, это выражение - не константное\")"
   ]
  }
 ],
 "metadata": {
  "kernelspec": {
   "display_name": "Python 3 (ipykernel)",
   "language": "python",
   "name": "python3"
  },
  "language_info": {
   "codemirror_mode": {
    "name": "ipython",
    "version": 3
   },
   "file_extension": ".py",
   "mimetype": "text/x-python",
   "name": "python",
   "nbconvert_exporter": "python",
   "pygments_lexer": "ipython3",
   "version": "3.12.4"
  }
 },
 "nbformat": 4,
 "nbformat_minor": 5
}
