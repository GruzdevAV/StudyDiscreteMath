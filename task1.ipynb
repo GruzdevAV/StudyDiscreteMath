{
 "cells": [
  {
   "cell_type": "code",
   "execution_count": 38,
   "id": "89716b44-2257-47a1-b9f9-64a647551189",
   "metadata": {},
   "outputs": [],
   "source": [
    "from abc import ABC, abstractmethod\n",
    "from dataclasses import dataclass"
   ]
  },
  {
   "cell_type": "code",
   "execution_count": 41,
   "id": "54deaaf4-409f-4a58-8f8a-2c2767f77088",
   "metadata": {},
   "outputs": [],
   "source": [
    "class Expression(ABC):\n",
    "\n",
    "    def __invert__(self) -> 'Not':\n",
    "        return Not(self)\n",
    "\n",
    "    def __and__(self, other) -> 'And':\n",
    "        return And(self, other)\n",
    "\n",
    "    def __or__(self, other) -> 'Or':\n",
    "        return Or(self, other)\n",
    "\n",
    "    @abstractmethod\n",
    "    def calculate(self) -> 'Expression':\n",
    "        ...\n",
    "\n",
    "\n",
    "@dataclass(frozen=True)\n",
    "class Literal(Expression):\n",
    "    name: str\n",
    "\n",
    "    def __str__(self):\n",
    "        return self.name\n",
    "\n",
    "    def __repr__(self):\n",
    "        return f'Literal({self.name})'\n",
    "\n",
    "    def calculate(self):\n",
    "        return self\n",
    "\n",
    "\n",
    "_0 = Literal('0')\n",
    "_1 = Literal('1')\n",
    "\n",
    "\n",
    "@dataclass(frozen=True)\n",
    "class Not(Expression):\n",
    "    expr: Expression\n",
    "\n",
    "    def __str__(self):\n",
    "        template = '~(%s)' \\\n",
    "            if isinstance(self.expr, And | Or) \\\n",
    "            else '~%s'\n",
    "        return template % self.expr\n",
    "\n",
    "    def __repr__(self):\n",
    "        return f'Not({repr(self.expr)})'\n",
    "\n",
    "    def calculate(self):\n",
    "        result = self.expr.calculate()\n",
    "        if result == _0:\n",
    "            return _1\n",
    "        if result == _1:\n",
    "            return _0\n",
    "        return Not(result)\n",
    "\n",
    "\n",
    "@dataclass(frozen=True)\n",
    "class And(Expression):\n",
    "    left_expr: Expression\n",
    "    right_expr: Expression\n",
    "\n",
    "    def __str__(self):\n",
    "        left_template = '(%s)' \\\n",
    "            if isinstance(self.left_expr, Or) \\\n",
    "            else '%s'\n",
    "        right_template = '(%s)' \\\n",
    "            if isinstance(self.right_expr, Or) \\\n",
    "            else '%s'\n",
    "        template = left_template + ' & ' + right_template\n",
    "        return template % (self.left_expr, self.right_expr)\n",
    "\n",
    "    def __repr__(self):\n",
    "        return f'And({repr(self.left_expr)}, {repr(self.right_expr)})'\n",
    "\n",
    "    def calculate(self):\n",
    "        left_result = self.left_expr.calculate()\n",
    "        right_result = self.right_expr.calculate()\n",
    "        if _0 in (left_result, right_result):\n",
    "            return _0\n",
    "        if left_result == _1:\n",
    "            return right_result\n",
    "        if right_result == _1:\n",
    "            return left_result\n",
    "        return And(left_result, right_result)\n",
    "\n",
    "\n",
    "@dataclass(frozen=True)\n",
    "class Or(Expression):\n",
    "    left_expr: Expression\n",
    "    right_expr: Expression\n",
    "\n",
    "    def __str__(self):\n",
    "        left_template = '(%s)' \\\n",
    "            if isinstance(self.left_expr, Or) \\\n",
    "            else '%s'\n",
    "        right_template = '(%s)' \\\n",
    "            if isinstance(self.right_expr, Or) \\\n",
    "            else '%s'\n",
    "        template = left_template + ' | ' + right_template\n",
    "        return template % (self.left_expr, self.right_expr)\n",
    "\n",
    "    def __repr__(self):\n",
    "        return f'Or({repr(self.left_expr)}, {repr(self.right_expr)})'\n",
    "\n",
    "    def calculate(self):\n",
    "        left_result = self.left_expr.calculate()\n",
    "        right_result = self.right_expr.calculate()\n",
    "        if _1 in (left_result, right_result):\n",
    "            return _1\n",
    "        if left_result == _0:\n",
    "            return right_result\n",
    "        if right_result == _0:\n",
    "            return left_result\n",
    "        return Or(left_result, right_result)\n",
    "\n"
   ]
  },
  {
   "cell_type": "code",
   "execution_count": 42,
   "id": "2e80260a-ddf9-4cf6-a068-5c010fc84d49",
   "metadata": {},
   "outputs": [],
   "source": [
    "for lit in 'ABCD':\n",
    "    exec(f'{lit} = Literal(\"{lit}\")')"
   ]
  },
  {
   "cell_type": "code",
   "execution_count": 45,
   "id": "a325c997-b557-4770-a530-0532502b5528",
   "metadata": {},
   "outputs": [
    {
     "name": "stdout",
     "output_type": "stream",
     "text": [
      "A & B | C & D & 0\n"
     ]
    },
    {
     "data": {
      "text/plain": [
       "Or(And(Literal(A), Literal(B)), And(And(Literal(C), Literal(D)), Literal(0)))"
      ]
     },
     "execution_count": 45,
     "metadata": {},
     "output_type": "execute_result"
    }
   ],
   "source": [
    "e1 = A&B|C&D&_0\n",
    "print(e1)\n",
    "e1"
   ]
  },
  {
   "cell_type": "code",
   "execution_count": 47,
   "id": "c793f35f-b00c-4bd1-8077-6e4266b52869",
   "metadata": {},
   "outputs": [
    {
     "name": "stdout",
     "output_type": "stream",
     "text": [
      "A & B\n"
     ]
    },
    {
     "data": {
      "text/plain": [
       "And(Literal(A), Literal(B))"
      ]
     },
     "execution_count": 47,
     "metadata": {},
     "output_type": "execute_result"
    }
   ],
   "source": [
    "e2 = e1.calculate()\n",
    "print(e2)\n",
    "e2"
   ]
  }
 ],
 "metadata": {
  "kernelspec": {
   "display_name": "Python 3 (ipykernel)",
   "language": "python",
   "name": "python3"
  },
  "language_info": {
   "codemirror_mode": {
    "name": "ipython",
    "version": 3
   },
   "file_extension": ".py",
   "mimetype": "text/x-python",
   "name": "python",
   "nbconvert_exporter": "python",
   "pygments_lexer": "ipython3",
   "version": "3.12.4"
  }
 },
 "nbformat": 4,
 "nbformat_minor": 5
}
